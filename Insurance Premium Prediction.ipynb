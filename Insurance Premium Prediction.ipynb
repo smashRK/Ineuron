{
 "cells": [
  {
   "cell_type": "markdown",
   "id": "89b981a2",
   "metadata": {},
   "source": [
    "## Insurance Premium Prediction"
   ]
  },
  {
   "cell_type": "code",
   "execution_count": 81,
   "id": "ba81d135",
   "metadata": {},
   "outputs": [],
   "source": [
    "# Import libraries\n",
    "import pandas as pd\n",
    "import numpy as np\n",
    "import matplotlib.pyplot as plt\n",
    "import seaborn as sns\n",
    "%matplotlib inline\n",
    "import json"
   ]
  },
  {
   "cell_type": "code",
   "execution_count": 2,
   "id": "9bc9a3aa",
   "metadata": {},
   "outputs": [],
   "source": [
    "# Import the dataset\n",
    "df=pd.read_csv(\"D:/downloads/insurance.csv\")"
   ]
  },
  {
   "cell_type": "code",
   "execution_count": 3,
   "id": "cb1ad4ff",
   "metadata": {},
   "outputs": [],
   "source": [
    "data = df.copy()"
   ]
  },
  {
   "cell_type": "code",
   "execution_count": 4,
   "id": "0f29a941",
   "metadata": {},
   "outputs": [
    {
     "data": {
      "text/html": [
       "<div>\n",
       "<style scoped>\n",
       "    .dataframe tbody tr th:only-of-type {\n",
       "        vertical-align: middle;\n",
       "    }\n",
       "\n",
       "    .dataframe tbody tr th {\n",
       "        vertical-align: top;\n",
       "    }\n",
       "\n",
       "    .dataframe thead th {\n",
       "        text-align: right;\n",
       "    }\n",
       "</style>\n",
       "<table border=\"1\" class=\"dataframe\">\n",
       "  <thead>\n",
       "    <tr style=\"text-align: right;\">\n",
       "      <th></th>\n",
       "      <th>age</th>\n",
       "      <th>sex</th>\n",
       "      <th>bmi</th>\n",
       "      <th>children</th>\n",
       "      <th>smoker</th>\n",
       "      <th>region</th>\n",
       "      <th>expenses</th>\n",
       "    </tr>\n",
       "  </thead>\n",
       "  <tbody>\n",
       "    <tr>\n",
       "      <th>0</th>\n",
       "      <td>19</td>\n",
       "      <td>female</td>\n",
       "      <td>27.9</td>\n",
       "      <td>0</td>\n",
       "      <td>yes</td>\n",
       "      <td>southwest</td>\n",
       "      <td>16884.92</td>\n",
       "    </tr>\n",
       "    <tr>\n",
       "      <th>1</th>\n",
       "      <td>18</td>\n",
       "      <td>male</td>\n",
       "      <td>33.8</td>\n",
       "      <td>1</td>\n",
       "      <td>no</td>\n",
       "      <td>southeast</td>\n",
       "      <td>1725.55</td>\n",
       "    </tr>\n",
       "    <tr>\n",
       "      <th>2</th>\n",
       "      <td>28</td>\n",
       "      <td>male</td>\n",
       "      <td>33.0</td>\n",
       "      <td>3</td>\n",
       "      <td>no</td>\n",
       "      <td>southeast</td>\n",
       "      <td>4449.46</td>\n",
       "    </tr>\n",
       "    <tr>\n",
       "      <th>3</th>\n",
       "      <td>33</td>\n",
       "      <td>male</td>\n",
       "      <td>22.7</td>\n",
       "      <td>0</td>\n",
       "      <td>no</td>\n",
       "      <td>northwest</td>\n",
       "      <td>21984.47</td>\n",
       "    </tr>\n",
       "    <tr>\n",
       "      <th>4</th>\n",
       "      <td>32</td>\n",
       "      <td>male</td>\n",
       "      <td>28.9</td>\n",
       "      <td>0</td>\n",
       "      <td>no</td>\n",
       "      <td>northwest</td>\n",
       "      <td>3866.86</td>\n",
       "    </tr>\n",
       "  </tbody>\n",
       "</table>\n",
       "</div>"
      ],
      "text/plain": [
       "   age     sex   bmi  children smoker     region  expenses\n",
       "0   19  female  27.9         0    yes  southwest  16884.92\n",
       "1   18    male  33.8         1     no  southeast   1725.55\n",
       "2   28    male  33.0         3     no  southeast   4449.46\n",
       "3   33    male  22.7         0     no  northwest  21984.47\n",
       "4   32    male  28.9         0     no  northwest   3866.86"
      ]
     },
     "execution_count": 4,
     "metadata": {},
     "output_type": "execute_result"
    }
   ],
   "source": [
    "# Top 5 rows from dataset\n",
    "df.head()"
   ]
  },
  {
   "cell_type": "code",
   "execution_count": 5,
   "id": "150b23c9",
   "metadata": {},
   "outputs": [
    {
     "data": {
      "text/html": [
       "<div>\n",
       "<style scoped>\n",
       "    .dataframe tbody tr th:only-of-type {\n",
       "        vertical-align: middle;\n",
       "    }\n",
       "\n",
       "    .dataframe tbody tr th {\n",
       "        vertical-align: top;\n",
       "    }\n",
       "\n",
       "    .dataframe thead th {\n",
       "        text-align: right;\n",
       "    }\n",
       "</style>\n",
       "<table border=\"1\" class=\"dataframe\">\n",
       "  <thead>\n",
       "    <tr style=\"text-align: right;\">\n",
       "      <th></th>\n",
       "      <th>age</th>\n",
       "      <th>sex</th>\n",
       "      <th>bmi</th>\n",
       "      <th>children</th>\n",
       "      <th>smoker</th>\n",
       "      <th>region</th>\n",
       "      <th>expenses</th>\n",
       "    </tr>\n",
       "  </thead>\n",
       "  <tbody>\n",
       "    <tr>\n",
       "      <th>1333</th>\n",
       "      <td>50</td>\n",
       "      <td>male</td>\n",
       "      <td>31.0</td>\n",
       "      <td>3</td>\n",
       "      <td>no</td>\n",
       "      <td>northwest</td>\n",
       "      <td>10600.55</td>\n",
       "    </tr>\n",
       "    <tr>\n",
       "      <th>1334</th>\n",
       "      <td>18</td>\n",
       "      <td>female</td>\n",
       "      <td>31.9</td>\n",
       "      <td>0</td>\n",
       "      <td>no</td>\n",
       "      <td>northeast</td>\n",
       "      <td>2205.98</td>\n",
       "    </tr>\n",
       "    <tr>\n",
       "      <th>1335</th>\n",
       "      <td>18</td>\n",
       "      <td>female</td>\n",
       "      <td>36.9</td>\n",
       "      <td>0</td>\n",
       "      <td>no</td>\n",
       "      <td>southeast</td>\n",
       "      <td>1629.83</td>\n",
       "    </tr>\n",
       "    <tr>\n",
       "      <th>1336</th>\n",
       "      <td>21</td>\n",
       "      <td>female</td>\n",
       "      <td>25.8</td>\n",
       "      <td>0</td>\n",
       "      <td>no</td>\n",
       "      <td>southwest</td>\n",
       "      <td>2007.95</td>\n",
       "    </tr>\n",
       "    <tr>\n",
       "      <th>1337</th>\n",
       "      <td>61</td>\n",
       "      <td>female</td>\n",
       "      <td>29.1</td>\n",
       "      <td>0</td>\n",
       "      <td>yes</td>\n",
       "      <td>northwest</td>\n",
       "      <td>29141.36</td>\n",
       "    </tr>\n",
       "  </tbody>\n",
       "</table>\n",
       "</div>"
      ],
      "text/plain": [
       "      age     sex   bmi  children smoker     region  expenses\n",
       "1333   50    male  31.0         3     no  northwest  10600.55\n",
       "1334   18  female  31.9         0     no  northeast   2205.98\n",
       "1335   18  female  36.9         0     no  southeast   1629.83\n",
       "1336   21  female  25.8         0     no  southwest   2007.95\n",
       "1337   61  female  29.1         0    yes  northwest  29141.36"
      ]
     },
     "execution_count": 5,
     "metadata": {},
     "output_type": "execute_result"
    }
   ],
   "source": [
    "# last 5 rows from dataset\n",
    "df.tail()"
   ]
  },
  {
   "cell_type": "code",
   "execution_count": 6,
   "id": "2eb32602",
   "metadata": {},
   "outputs": [
    {
     "data": {
      "text/plain": [
       "(1338, 7)"
      ]
     },
     "execution_count": 6,
     "metadata": {},
     "output_type": "execute_result"
    }
   ],
   "source": [
    "# Shape of the dataset\n",
    "df.shape"
   ]
  },
  {
   "cell_type": "code",
   "execution_count": 7,
   "id": "f600d9c5",
   "metadata": {},
   "outputs": [
    {
     "name": "stdout",
     "output_type": "stream",
     "text": [
      "<class 'pandas.core.frame.DataFrame'>\n",
      "RangeIndex: 1338 entries, 0 to 1337\n",
      "Data columns (total 7 columns):\n",
      " #   Column    Non-Null Count  Dtype  \n",
      "---  ------    --------------  -----  \n",
      " 0   age       1338 non-null   int64  \n",
      " 1   sex       1338 non-null   object \n",
      " 2   bmi       1338 non-null   float64\n",
      " 3   children  1338 non-null   int64  \n",
      " 4   smoker    1338 non-null   object \n",
      " 5   region    1338 non-null   object \n",
      " 6   expenses  1338 non-null   float64\n",
      "dtypes: float64(2), int64(2), object(3)\n",
      "memory usage: 73.3+ KB\n"
     ]
    }
   ],
   "source": [
    "# Check the data types for each column\n",
    "df.info()"
   ]
  },
  {
   "cell_type": "code",
   "execution_count": 8,
   "id": "00d656f3",
   "metadata": {},
   "outputs": [
    {
     "data": {
      "text/plain": [
       "age         0\n",
       "sex         0\n",
       "bmi         0\n",
       "children    0\n",
       "smoker      0\n",
       "region      0\n",
       "expenses    0\n",
       "dtype: int64"
      ]
     },
     "execution_count": 8,
     "metadata": {},
     "output_type": "execute_result"
    }
   ],
   "source": [
    "# Find null values\n",
    "df.isnull().sum()"
   ]
  },
  {
   "cell_type": "code",
   "execution_count": 9,
   "id": "bd77bb18",
   "metadata": {},
   "outputs": [],
   "source": [
    "# We found no null values."
   ]
  },
  {
   "cell_type": "code",
   "execution_count": 10,
   "id": "043991cb",
   "metadata": {},
   "outputs": [
    {
     "data": {
      "text/html": [
       "<div>\n",
       "<style scoped>\n",
       "    .dataframe tbody tr th:only-of-type {\n",
       "        vertical-align: middle;\n",
       "    }\n",
       "\n",
       "    .dataframe tbody tr th {\n",
       "        vertical-align: top;\n",
       "    }\n",
       "\n",
       "    .dataframe thead th {\n",
       "        text-align: right;\n",
       "    }\n",
       "</style>\n",
       "<table border=\"1\" class=\"dataframe\">\n",
       "  <thead>\n",
       "    <tr style=\"text-align: right;\">\n",
       "      <th></th>\n",
       "      <th>count</th>\n",
       "      <th>mean</th>\n",
       "      <th>std</th>\n",
       "      <th>min</th>\n",
       "      <th>25%</th>\n",
       "      <th>50%</th>\n",
       "      <th>75%</th>\n",
       "      <th>max</th>\n",
       "    </tr>\n",
       "  </thead>\n",
       "  <tbody>\n",
       "    <tr>\n",
       "      <th>age</th>\n",
       "      <td>1338.0</td>\n",
       "      <td>39.207025</td>\n",
       "      <td>14.049960</td>\n",
       "      <td>18.00</td>\n",
       "      <td>27.0000</td>\n",
       "      <td>39.00</td>\n",
       "      <td>51.000</td>\n",
       "      <td>64.00</td>\n",
       "    </tr>\n",
       "    <tr>\n",
       "      <th>bmi</th>\n",
       "      <td>1338.0</td>\n",
       "      <td>30.665471</td>\n",
       "      <td>6.098382</td>\n",
       "      <td>16.00</td>\n",
       "      <td>26.3000</td>\n",
       "      <td>30.40</td>\n",
       "      <td>34.700</td>\n",
       "      <td>53.10</td>\n",
       "    </tr>\n",
       "    <tr>\n",
       "      <th>children</th>\n",
       "      <td>1338.0</td>\n",
       "      <td>1.094918</td>\n",
       "      <td>1.205493</td>\n",
       "      <td>0.00</td>\n",
       "      <td>0.0000</td>\n",
       "      <td>1.00</td>\n",
       "      <td>2.000</td>\n",
       "      <td>5.00</td>\n",
       "    </tr>\n",
       "    <tr>\n",
       "      <th>expenses</th>\n",
       "      <td>1338.0</td>\n",
       "      <td>13270.422414</td>\n",
       "      <td>12110.011240</td>\n",
       "      <td>1121.87</td>\n",
       "      <td>4740.2875</td>\n",
       "      <td>9382.03</td>\n",
       "      <td>16639.915</td>\n",
       "      <td>63770.43</td>\n",
       "    </tr>\n",
       "  </tbody>\n",
       "</table>\n",
       "</div>"
      ],
      "text/plain": [
       "           count          mean           std      min        25%      50%  \\\n",
       "age       1338.0     39.207025     14.049960    18.00    27.0000    39.00   \n",
       "bmi       1338.0     30.665471      6.098382    16.00    26.3000    30.40   \n",
       "children  1338.0      1.094918      1.205493     0.00     0.0000     1.00   \n",
       "expenses  1338.0  13270.422414  12110.011240  1121.87  4740.2875  9382.03   \n",
       "\n",
       "                75%       max  \n",
       "age          51.000     64.00  \n",
       "bmi          34.700     53.10  \n",
       "children      2.000      5.00  \n",
       "expenses  16639.915  63770.43  "
      ]
     },
     "execution_count": 10,
     "metadata": {},
     "output_type": "execute_result"
    }
   ],
   "source": [
    "df.describe().transpose()"
   ]
  },
  {
   "cell_type": "code",
   "execution_count": 11,
   "id": "bf756f13",
   "metadata": {},
   "outputs": [
    {
     "name": "stdout",
     "output_type": "stream",
     "text": [
      "0    574\n",
      "1    324\n",
      "2    240\n",
      "3    157\n",
      "4     25\n",
      "5     18\n",
      "Name: children, dtype: int64\n"
     ]
    }
   ],
   "source": [
    "print(df['children'].value_counts())"
   ]
  },
  {
   "cell_type": "code",
   "execution_count": 12,
   "id": "e9ef2933",
   "metadata": {},
   "outputs": [
    {
     "data": {
      "text/plain": [
       "male      676\n",
       "female    662\n",
       "Name: sex, dtype: int64"
      ]
     },
     "execution_count": 12,
     "metadata": {},
     "output_type": "execute_result"
    }
   ],
   "source": [
    "df['sex'].value_counts()"
   ]
  },
  {
   "cell_type": "code",
   "execution_count": 13,
   "id": "f4300436",
   "metadata": {},
   "outputs": [
    {
     "data": {
      "text/plain": [
       "no     1064\n",
       "yes     274\n",
       "Name: smoker, dtype: int64"
      ]
     },
     "execution_count": 13,
     "metadata": {},
     "output_type": "execute_result"
    }
   ],
   "source": [
    "df['smoker'].value_counts()"
   ]
  },
  {
   "cell_type": "code",
   "execution_count": 14,
   "id": "b74e4b04",
   "metadata": {},
   "outputs": [
    {
     "data": {
      "text/plain": [
       "southeast    364\n",
       "southwest    325\n",
       "northwest    325\n",
       "northeast    324\n",
       "Name: region, dtype: int64"
      ]
     },
     "execution_count": 14,
     "metadata": {},
     "output_type": "execute_result"
    }
   ],
   "source": [
    "df['region'].value_counts()"
   ]
  },
  {
   "cell_type": "code",
   "execution_count": 15,
   "id": "9fd057d3",
   "metadata": {},
   "outputs": [
    {
     "data": {
      "text/plain": [
       "LabelEncoder()"
      ]
     },
     "execution_count": 15,
     "metadata": {},
     "output_type": "execute_result"
    }
   ],
   "source": [
    "from sklearn.preprocessing import LabelEncoder\n",
    "le = LabelEncoder()\n",
    "le"
   ]
  },
  {
   "cell_type": "code",
   "execution_count": 16,
   "id": "04757f71",
   "metadata": {},
   "outputs": [],
   "source": [
    "df['sex']=le.fit_transform(df['sex'])\n",
    "df['smoker']=le.fit_transform(df['smoker'])\n",
    "df['region']=le.fit_transform(df['region'])\n"
   ]
  },
  {
   "cell_type": "code",
   "execution_count": 17,
   "id": "70ccd103",
   "metadata": {},
   "outputs": [
    {
     "data": {
      "text/html": [
       "<div>\n",
       "<style scoped>\n",
       "    .dataframe tbody tr th:only-of-type {\n",
       "        vertical-align: middle;\n",
       "    }\n",
       "\n",
       "    .dataframe tbody tr th {\n",
       "        vertical-align: top;\n",
       "    }\n",
       "\n",
       "    .dataframe thead th {\n",
       "        text-align: right;\n",
       "    }\n",
       "</style>\n",
       "<table border=\"1\" class=\"dataframe\">\n",
       "  <thead>\n",
       "    <tr style=\"text-align: right;\">\n",
       "      <th></th>\n",
       "      <th>age</th>\n",
       "      <th>sex</th>\n",
       "      <th>bmi</th>\n",
       "      <th>children</th>\n",
       "      <th>smoker</th>\n",
       "      <th>region</th>\n",
       "      <th>expenses</th>\n",
       "    </tr>\n",
       "  </thead>\n",
       "  <tbody>\n",
       "    <tr>\n",
       "      <th>0</th>\n",
       "      <td>19</td>\n",
       "      <td>0</td>\n",
       "      <td>27.9</td>\n",
       "      <td>0</td>\n",
       "      <td>1</td>\n",
       "      <td>3</td>\n",
       "      <td>16884.92</td>\n",
       "    </tr>\n",
       "    <tr>\n",
       "      <th>1</th>\n",
       "      <td>18</td>\n",
       "      <td>1</td>\n",
       "      <td>33.8</td>\n",
       "      <td>1</td>\n",
       "      <td>0</td>\n",
       "      <td>2</td>\n",
       "      <td>1725.55</td>\n",
       "    </tr>\n",
       "    <tr>\n",
       "      <th>2</th>\n",
       "      <td>28</td>\n",
       "      <td>1</td>\n",
       "      <td>33.0</td>\n",
       "      <td>3</td>\n",
       "      <td>0</td>\n",
       "      <td>2</td>\n",
       "      <td>4449.46</td>\n",
       "    </tr>\n",
       "    <tr>\n",
       "      <th>3</th>\n",
       "      <td>33</td>\n",
       "      <td>1</td>\n",
       "      <td>22.7</td>\n",
       "      <td>0</td>\n",
       "      <td>0</td>\n",
       "      <td>1</td>\n",
       "      <td>21984.47</td>\n",
       "    </tr>\n",
       "    <tr>\n",
       "      <th>4</th>\n",
       "      <td>32</td>\n",
       "      <td>1</td>\n",
       "      <td>28.9</td>\n",
       "      <td>0</td>\n",
       "      <td>0</td>\n",
       "      <td>1</td>\n",
       "      <td>3866.86</td>\n",
       "    </tr>\n",
       "  </tbody>\n",
       "</table>\n",
       "</div>"
      ],
      "text/plain": [
       "   age  sex   bmi  children  smoker  region  expenses\n",
       "0   19    0  27.9         0       1       3  16884.92\n",
       "1   18    1  33.8         1       0       2   1725.55\n",
       "2   28    1  33.0         3       0       2   4449.46\n",
       "3   33    1  22.7         0       0       1  21984.47\n",
       "4   32    1  28.9         0       0       1   3866.86"
      ]
     },
     "execution_count": 17,
     "metadata": {},
     "output_type": "execute_result"
    }
   ],
   "source": [
    "df.head()"
   ]
  },
  {
   "cell_type": "code",
   "execution_count": 18,
   "id": "aaff57a2",
   "metadata": {},
   "outputs": [
    {
     "name": "stderr",
     "output_type": "stream",
     "text": [
      "C:\\Anaconda\\lib\\site-packages\\seaborn\\distributions.py:2619: FutureWarning: `distplot` is a deprecated function and will be removed in a future version. Please adapt your code to use either `displot` (a figure-level function with similar flexibility) or `histplot` (an axes-level function for histograms).\n",
      "  warnings.warn(msg, FutureWarning)\n"
     ]
    },
    {
     "data": {
      "text/plain": [
       "<AxesSubplot:xlabel='age', ylabel='Density'>"
      ]
     },
     "execution_count": 18,
     "metadata": {},
     "output_type": "execute_result"
    },
    {
     "data": {
      "image/png": "[encoded data removed]",
      "text/plain": [
       "<Figure size 640x480 with 1 Axes>"
      ]
     },
     "metadata": {},
     "output_type": "display_data"
    }
   ],
   "source": [
    "sns.distplot(df.age)"
   ]
  },
  {
   "cell_type": "code",
   "execution_count": 19,
   "id": "02ede08e",
   "metadata": {
    "scrolled": true
   },
   "outputs": [
    {
     "data": {
      "image/png": "[encoded data removed]",
      "text/plain": [
       "<Figure size 1000x500 with 1 Axes>"
      ]
     },
     "metadata": {},
     "output_type": "display_data"
    }
   ],
   "source": [
    "plt.figure(figsize=(10,5))\n",
    "df.groupby(['sex'])['expenses'].mean().plot.bar()\n",
    "plt.ylabel=('Medical Expense')\n",
    "plt.title(\"Expenses of Male and Female\")\n",
    "plt.xticks(rotation = 0)\n",
    "plt.show()"
   ]
  },
  {
   "cell_type": "code",
   "execution_count": 20,
   "id": "a02a4e25",
   "metadata": {},
   "outputs": [
    {
     "data": {
      "image/png": "[encoded data removed]",
      "text/plain": [
       "<Figure size 1000x500 with 1 Axes>"
      ]
     },
     "metadata": {},
     "output_type": "display_data"
    }
   ],
   "source": [
    "plt.figure(figsize=[10,5])\n",
    "df.groupby([\"smoker\"])[\"expenses\"].mean().plot.bar()\n",
    "plt.ylabel=(\"Medical Expense\")\n",
    "plt.xticks(rotation=0)\n",
    "plt.title(\"Expenses of Smokers & Non-Smokers\")\n",
    "plt.show()"
   ]
  },
  {
   "cell_type": "code",
   "execution_count": 21,
   "id": "d00dccc7",
   "metadata": {},
   "outputs": [
    {
     "data": {
      "image/png": "[encoded data removed]",
      "text/plain": [
       "<Figure size 1000x500 with 1 Axes>"
      ]
     },
     "metadata": {},
     "output_type": "display_data"
    }
   ],
   "source": [
    "plt.figure(figsize=[10,5])\n",
    "df.groupby([\"children\"])[\"expenses\"].mean().plot.bar()\n",
    "plt.ylabel=(\"Expense\")\n",
    "plt.xticks(rotation=0)\n",
    "plt.title(\"Expenses of Children\")\n",
    "plt.show()"
   ]
  },
  {
   "cell_type": "code",
   "execution_count": 22,
   "id": "9ad680d7",
   "metadata": {},
   "outputs": [
    {
     "data": {
      "image/png": "[encoded data removed]",
      "text/plain": [
       "<Figure size 1000x500 with 1 Axes>"
      ]
     },
     "metadata": {},
     "output_type": "display_data"
    }
   ],
   "source": [
    "plt.figure(figsize=[10,5])\n",
    "df.groupby([\"region\"])[\"expenses\"].mean().plot.bar()\n",
    "plt.ylabel=(\"Medical Expense\")\n",
    "plt.xticks(rotation=0)\n",
    "plt.title(\"Expenses of people in different Region \")\n",
    "plt.show()"
   ]
  },
  {
   "cell_type": "code",
   "execution_count": 23,
   "id": "226b0d75",
   "metadata": {},
   "outputs": [
    {
     "name": "stderr",
     "output_type": "stream",
     "text": [
      "C:\\Anaconda\\lib\\site-packages\\seaborn\\_decorators.py:36: FutureWarning: Pass the following variable as a keyword arg: x. From version 0.12, the only valid positional argument will be `data`, and passing other arguments without an explicit keyword will result in an error or misinterpretation.\n",
      "  warnings.warn(\n"
     ]
    },
    {
     "data": {
      "text/plain": [
       "<AxesSubplot:xlabel='age'>"
      ]
     },
     "execution_count": 23,
     "metadata": {},
     "output_type": "execute_result"
    },
    {
     "data": {
      "image/png": "[encoded data removed]",
      "text/plain": [
       "<Figure size 640x480 with 1 Axes>"
      ]
     },
     "metadata": {},
     "output_type": "display_data"
    }
   ],
   "source": [
    "sns.boxplot(df.age)"
   ]
  },
  {
   "cell_type": "code",
   "execution_count": 24,
   "id": "511bf121",
   "metadata": {},
   "outputs": [
    {
     "name": "stderr",
     "output_type": "stream",
     "text": [
      "C:\\Anaconda\\lib\\site-packages\\seaborn\\_decorators.py:36: FutureWarning: Pass the following variable as a keyword arg: x. From version 0.12, the only valid positional argument will be `data`, and passing other arguments without an explicit keyword will result in an error or misinterpretation.\n",
      "  warnings.warn(\n"
     ]
    },
    {
     "data": {
      "text/plain": [
       "<AxesSubplot:xlabel='bmi'>"
      ]
     },
     "execution_count": 24,
     "metadata": {},
     "output_type": "execute_result"
    },
    {
     "data": {
      "image/png": "[encoded data removed]",
      "text/plain": [
       "<Figure size 640x480 with 1 Axes>"
      ]
     },
     "metadata": {},
     "output_type": "display_data"
    }
   ],
   "source": [
    "sns.boxplot(df.bmi)"
   ]
  },
  {
   "cell_type": "markdown",
   "id": "6a9780a8",
   "metadata": {},
   "source": [
    "## removing outliers"
   ]
  },
  {
   "cell_type": "code",
   "execution_count": 25,
   "id": "072bdb3b",
   "metadata": {},
   "outputs": [],
   "source": [
    "percentile25 = df['bmi'].quantile(0.25)\n",
    "percentile75 = df['bmi'].quantile(0.75)\n",
    "IQR = percentile75 - percentile25\n",
    "upper_limit = percentile75 + 1.5 * IQR\n",
    "lower_limit = percentile25 - 1.5 * IQR"
   ]
  },
  {
   "cell_type": "code",
   "execution_count": 26,
   "id": "7a99c230",
   "metadata": {},
   "outputs": [
    {
     "name": "stdout",
     "output_type": "stream",
     "text": [
      "47.300000000000004\n",
      "13.699999999999998\n"
     ]
    }
   ],
   "source": [
    "print(upper_limit)\n",
    "print(lower_limit)"
   ]
  },
  {
   "cell_type": "code",
   "execution_count": 27,
   "id": "94066fac",
   "metadata": {},
   "outputs": [],
   "source": [
    "df['bmi'] = np.where(df['bmi'] > upper_limit, upper_limit, df['bmi']) "
   ]
  },
  {
   "cell_type": "code",
   "execution_count": 28,
   "id": "188b0838",
   "metadata": {},
   "outputs": [
    {
     "name": "stderr",
     "output_type": "stream",
     "text": [
      "C:\\Anaconda\\lib\\site-packages\\seaborn\\_decorators.py:36: FutureWarning: Pass the following variable as a keyword arg: x. From version 0.12, the only valid positional argument will be `data`, and passing other arguments without an explicit keyword will result in an error or misinterpretation.\n",
      "  warnings.warn(\n"
     ]
    },
    {
     "data": {
      "text/plain": [
       "<AxesSubplot:xlabel='bmi'>"
      ]
     },
     "execution_count": 28,
     "metadata": {},
     "output_type": "execute_result"
    },
    {
     "data": {
      "image/png": "[encoded data removed]",
      "text/plain": [
       "<Figure size 640x480 with 1 Axes>"
      ]
     },
     "metadata": {},
     "output_type": "display_data"
    }
   ],
   "source": [
    "sns.boxplot(df.bmi)"
   ]
  },
  {
   "cell_type": "code",
   "execution_count": 29,
   "id": "4b41c6df",
   "metadata": {},
   "outputs": [
    {
     "name": "stderr",
     "output_type": "stream",
     "text": [
      "C:\\Anaconda\\lib\\site-packages\\seaborn\\distributions.py:2619: FutureWarning: `distplot` is a deprecated function and will be removed in a future version. Please adapt your code to use either `displot` (a figure-level function with similar flexibility) or `histplot` (an axes-level function for histograms).\n",
      "  warnings.warn(msg, FutureWarning)\n"
     ]
    },
    {
     "data": {
      "text/plain": [
       "<AxesSubplot:xlabel='bmi', ylabel='Density'>"
      ]
     },
     "execution_count": 29,
     "metadata": {},
     "output_type": "execute_result"
    },
    {
     "data": {
      "image/png": "[encoded data removed]",
      "text/plain": [
       "<Figure size 640x480 with 1 Axes>"
      ]
     },
     "metadata": {},
     "output_type": "display_data"
    }
   ],
   "source": [
    "sns.distplot(df.bmi)"
   ]
  },
  {
   "cell_type": "code",
   "execution_count": 30,
   "id": "75826910",
   "metadata": {},
   "outputs": [
    {
     "data": {
      "text/plain": [
       "expenses    1.000000\n",
       "smoker      0.787251\n",
       "age         0.299008\n",
       "bmi         0.199233\n",
       "children    0.067998\n",
       "sex         0.057292\n",
       "region     -0.006208\n",
       "Name: expenses, dtype: float64"
      ]
     },
     "execution_count": 30,
     "metadata": {},
     "output_type": "execute_result"
    }
   ],
   "source": [
    "corr_matrix = df.corr()\n",
    "corr_matrix['expenses'].sort_values(ascending=False)\n"
   ]
  },
  {
   "cell_type": "code",
   "execution_count": 31,
   "id": "39bf7d60",
   "metadata": {},
   "outputs": [],
   "source": [
    "from sklearn.preprocessing import StandardScaler\n",
    "scale = StandardScaler()"
   ]
  },
  {
   "cell_type": "code",
   "execution_count": 32,
   "id": "efe4d35f",
   "metadata": {},
   "outputs": [],
   "source": [
    "x = df.iloc[:,:-1].values\n",
    "y = df.iloc[:,-1].values"
   ]
  },
  {
   "cell_type": "code",
   "execution_count": 33,
   "id": "13a47a10",
   "metadata": {},
   "outputs": [],
   "source": [
    "x = scale.fit_transform(x)"
   ]
  },
  {
   "cell_type": "code",
   "execution_count": 34,
   "id": "05b221f9",
   "metadata": {},
   "outputs": [
    {
     "data": {
      "text/plain": [
       "array([[-1.43876426, -1.0105187 , -0.45452662, -0.90861367,  1.97058663,\n",
       "         1.34390459],\n",
       "       [-1.50996545,  0.98959079,  0.51987161, -0.07876719, -0.5074631 ,\n",
       "         0.43849455],\n",
       "       [-0.79795355,  0.98959079,  0.38774982,  1.58092576, -0.5074631 ,\n",
       "         0.43849455],\n",
       "       ...,\n",
       "       [-1.50996545, -1.0105187 ,  1.03184356, -0.90861367, -0.5074631 ,\n",
       "         0.43849455],\n",
       "       [-1.29636188, -1.0105187 , -0.80134633, -0.90861367, -0.5074631 ,\n",
       "         1.34390459],\n",
       "       [ 1.55168573, -1.0105187 , -0.25634393, -0.90861367,  1.97058663,\n",
       "        -0.46691549]])"
      ]
     },
     "execution_count": 34,
     "metadata": {},
     "output_type": "execute_result"
    }
   ],
   "source": [
    "x"
   ]
  },
  {
   "cell_type": "code",
   "execution_count": 35,
   "id": "ef059813",
   "metadata": {},
   "outputs": [],
   "source": [
    "from sklearn.model_selection import train_test_split\n",
    "x_train,x_test,y_train,y_test = train_test_split(x,y,test_size=0.39,random_state=0)"
   ]
  },
  {
   "cell_type": "code",
   "execution_count": 36,
   "id": "dac2ff7a",
   "metadata": {},
   "outputs": [
    {
     "data": {
      "text/plain": [
       "LinearRegression()"
      ]
     },
     "execution_count": 36,
     "metadata": {},
     "output_type": "execute_result"
    }
   ],
   "source": [
    "from sklearn.linear_model import LinearRegression\n",
    "ml = LinearRegression()\n",
    "ml.fit(x_train,y_train)"
   ]
  },
  {
   "cell_type": "code",
   "execution_count": 37,
   "id": "580816e6",
   "metadata": {},
   "outputs": [],
   "source": [
    "y_pred=ml.predict(x_test)"
   ]
  },
  {
   "cell_type": "code",
   "execution_count": 38,
   "id": "b468c902",
   "metadata": {},
   "outputs": [
    {
     "data": {
      "image/png": "[encoded data removed]",
      "text/plain": [
       "<Figure size 640x480 with 1 Axes>"
      ]
     },
     "metadata": {},
     "output_type": "display_data"
    }
   ],
   "source": [
    "plt.scatter(y_pred, y_test, color = 'red')\n",
    "plt.plot(y_pred, ml.predict(x_test), color = 'blue')\n",
    "\n",
    "plt.title('predict vs actual')\n",
    "plt.xlabel('predict')\n",
    "plt.show()"
   ]
  },
  {
   "cell_type": "code",
   "execution_count": 39,
   "id": "d825b016",
   "metadata": {},
   "outputs": [],
   "source": [
    "model_list = []\n",
    "mean_absolute_error_list = []\n",
    "mean_squared_error_list = []\n",
    "root_mean_sqared_error_list = []\n",
    "R2_score = []\n",
    "from sklearn import metrics\n"
   ]
  },
  {
   "cell_type": "code",
   "execution_count": 40,
   "id": "16dc3cb1",
   "metadata": {},
   "outputs": [],
   "source": [
    "def Model_features(x_train , y_train , x_test , y_test , y_pred , model_name):\n",
    "\n",
    "    mean_absolute_error ,mean_squared_error , root_mean_sqared_error , R2= round(metrics.mean_absolute_error(y_test , y_pred),ndigits=2), round(metrics.mean_squared_error(y_test,y_pred),ndigits=2) , round(np.sqrt(metrics.mean_squared_error(y_test,y_pred)),ndigits=2), round(metrics.r2_score(y_test,y_pred),ndigits=2)\n",
    "    \n",
    "    print(f'mean_absolute_error :{mean_absolute_error}')\n",
    "    print(f'mean_squared_error :{mean_squared_error}')\n",
    "    print(f'root_mean_sqared_error :{root_mean_sqared_error}')\n",
    "    print(f'R2_score :{R2}')\n",
    "\n",
    "    model_list.append(model_name)\n",
    "    mean_absolute_error_list.append(mean_absolute_error)\n",
    "    mean_squared_error_list.append(mean_squared_error)\n",
    "    root_mean_sqared_error_list.append(root_mean_sqared_error)\n",
    "    R2_score.append(R2)"
   ]
  },
  {
   "cell_type": "code",
   "execution_count": 41,
   "id": "3d9f32d1",
   "metadata": {},
   "outputs": [
    {
     "name": "stdout",
     "output_type": "stream",
     "text": [
      "mean_absolute_error :4053.18\n",
      "mean_squared_error :33232007.89\n",
      "root_mean_sqared_error :5764.72\n",
      "R2_score :0.79\n"
     ]
    }
   ],
   "source": [
    "Model_features(x_train , y_train , x_test , y_test , y_pred , \"LinearRegression\" )"
   ]
  },
  {
   "cell_type": "code",
   "execution_count": 42,
   "id": "b6f47933",
   "metadata": {},
   "outputs": [],
   "source": [
    "from sklearn.linear_model import LogisticRegression\n",
    "from sklearn.neighbors import KNeighborsRegressor\n",
    "from sklearn.ensemble import RandomForestRegressor\n",
    "from sklearn.tree import DecisionTreeRegressor\n",
    "from sklearn.svm import SVR\n",
    "import warnings\n",
    "warnings.filterwarnings('ignore')"
   ]
  },
  {
   "cell_type": "code",
   "execution_count": 43,
   "id": "23356bfb",
   "metadata": {},
   "outputs": [],
   "source": [
    "knn = KNeighborsRegressor(n_neighbors=20,algorithm='ball_tree')\n",
    "knn.fit(x_train,y_train)\n",
    "y_pred= knn.predict(x_test)"
   ]
  },
  {
   "cell_type": "code",
   "execution_count": 44,
   "id": "bb186945",
   "metadata": {},
   "outputs": [
    {
     "name": "stdout",
     "output_type": "stream",
     "text": [
      "mean_absolute_error :3291.57\n",
      "mean_squared_error :24070223.63\n",
      "root_mean_sqared_error :4906.14\n",
      "R2_score :0.85\n"
     ]
    }
   ],
   "source": [
    "Model_features(x_train , y_train , x_test , y_test , y_pred , \"KNeighborsRegression\" )\n"
   ]
  },
  {
   "cell_type": "code",
   "execution_count": 45,
   "id": "bc7bab10",
   "metadata": {},
   "outputs": [],
   "source": [
    "svr = SVR()\n",
    "svr.fit(x_train,y_train)\n",
    "y_pred= svr.predict(x_test)"
   ]
  },
  {
   "cell_type": "code",
   "execution_count": 46,
   "id": "d35b8052",
   "metadata": {},
   "outputs": [
    {
     "name": "stdout",
     "output_type": "stream",
     "text": [
      "mean_absolute_error :8591.0\n",
      "mean_squared_error :169135070.59\n",
      "root_mean_sqared_error :13005.19\n",
      "R2_score :-0.08\n"
     ]
    }
   ],
   "source": [
    "Model_features(x_train , y_train , x_test , y_test , y_pred , \"SVR\" )\n"
   ]
  },
  {
   "cell_type": "code",
   "execution_count": 47,
   "id": "d0f9f1ba",
   "metadata": {},
   "outputs": [],
   "source": [
    "rf = RandomForestRegressor()\n",
    "rf.fit(x_train,y_train)\n",
    "y_pred = rf.predict(x_test)"
   ]
  },
  {
   "cell_type": "code",
   "execution_count": 48,
   "id": "38ce735d",
   "metadata": {},
   "outputs": [
    {
     "name": "stdout",
     "output_type": "stream",
     "text": [
      "mean_absolute_error :2727.93\n",
      "mean_squared_error :21882099.61\n",
      "root_mean_sqared_error :4677.83\n",
      "R2_score :0.86\n"
     ]
    }
   ],
   "source": [
    "Model_features(x_train , y_train , x_test , y_test , y_pred , \"RandomForestRegresser\" )\n"
   ]
  },
  {
   "cell_type": "code",
   "execution_count": 49,
   "id": "6438df58",
   "metadata": {},
   "outputs": [],
   "source": [
    "dt = DecisionTreeRegressor()\n",
    "dt.fit(x_train,y_train)\n",
    "y_pred = dt.predict(x_test)"
   ]
  },
  {
   "cell_type": "code",
   "execution_count": 50,
   "id": "9d0565f5",
   "metadata": {},
   "outputs": [
    {
     "name": "stdout",
     "output_type": "stream",
     "text": [
      "mean_absolute_error :3402.5\n",
      "mean_squared_error :49179841.96\n",
      "root_mean_sqared_error :7012.83\n",
      "R2_score :0.69\n"
     ]
    }
   ],
   "source": [
    "Model_features(x_train , y_train , x_test , y_test , y_pred , \"DecisionTreeRegressor\" )\n"
   ]
  },
  {
   "cell_type": "code",
   "execution_count": 51,
   "id": "d89c318a",
   "metadata": {},
   "outputs": [
    {
     "data": {
      "text/html": [
       "<div>\n",
       "<style scoped>\n",
       "    .dataframe tbody tr th:only-of-type {\n",
       "        vertical-align: middle;\n",
       "    }\n",
       "\n",
       "    .dataframe tbody tr th {\n",
       "        vertical-align: top;\n",
       "    }\n",
       "\n",
       "    .dataframe thead th {\n",
       "        text-align: right;\n",
       "    }\n",
       "</style>\n",
       "<table border=\"1\" class=\"dataframe\">\n",
       "  <thead>\n",
       "    <tr style=\"text-align: right;\">\n",
       "      <th></th>\n",
       "      <th>Model_name</th>\n",
       "      <th>mean_absolute_error</th>\n",
       "      <th>mean_squared_error</th>\n",
       "      <th>root_mean_sqared_error</th>\n",
       "      <th>R2_score</th>\n",
       "    </tr>\n",
       "  </thead>\n",
       "  <tbody>\n",
       "    <tr>\n",
       "      <th>3</th>\n",
       "      <td>RandomForestRegresser</td>\n",
       "      <td>2727.93</td>\n",
       "      <td>2.188210e+07</td>\n",
       "      <td>4677.83</td>\n",
       "      <td>0.86</td>\n",
       "    </tr>\n",
       "    <tr>\n",
       "      <th>1</th>\n",
       "      <td>KNeighborsRegression</td>\n",
       "      <td>3291.57</td>\n",
       "      <td>2.407022e+07</td>\n",
       "      <td>4906.14</td>\n",
       "      <td>0.85</td>\n",
       "    </tr>\n",
       "    <tr>\n",
       "      <th>0</th>\n",
       "      <td>LinearRegression</td>\n",
       "      <td>4053.18</td>\n",
       "      <td>3.323201e+07</td>\n",
       "      <td>5764.72</td>\n",
       "      <td>0.79</td>\n",
       "    </tr>\n",
       "    <tr>\n",
       "      <th>4</th>\n",
       "      <td>DecisionTreeRegressor</td>\n",
       "      <td>3402.50</td>\n",
       "      <td>4.917984e+07</td>\n",
       "      <td>7012.83</td>\n",
       "      <td>0.69</td>\n",
       "    </tr>\n",
       "    <tr>\n",
       "      <th>2</th>\n",
       "      <td>SVR</td>\n",
       "      <td>8591.00</td>\n",
       "      <td>1.691351e+08</td>\n",
       "      <td>13005.19</td>\n",
       "      <td>-0.08</td>\n",
       "    </tr>\n",
       "  </tbody>\n",
       "</table>\n",
       "</div>"
      ],
      "text/plain": [
       "              Model_name  mean_absolute_error  mean_squared_error  \\\n",
       "3  RandomForestRegresser              2727.93        2.188210e+07   \n",
       "1   KNeighborsRegression              3291.57        2.407022e+07   \n",
       "0       LinearRegression              4053.18        3.323201e+07   \n",
       "4  DecisionTreeRegressor              3402.50        4.917984e+07   \n",
       "2                    SVR              8591.00        1.691351e+08   \n",
       "\n",
       "   root_mean_sqared_error  R2_score  \n",
       "3                 4677.83      0.86  \n",
       "1                 4906.14      0.85  \n",
       "0                 5764.72      0.79  \n",
       "4                 7012.83      0.69  \n",
       "2                13005.19     -0.08  "
      ]
     },
     "execution_count": 51,
     "metadata": {},
     "output_type": "execute_result"
    }
   ],
   "source": [
    "dict = {'Model_name':model_list,'mean_absolute_error' :mean_absolute_error_list,'mean_squared_error' : mean_squared_error_list, 'root_mean_sqared_error' :root_mean_sqared_error_list, 'R2_score': R2_score}\n",
    "model_selection = pd.DataFrame(dict).sort_values(ascending = True , by = 'root_mean_sqared_error')\n",
    "model_selection"
   ]
  },
  {
   "cell_type": "markdown",
   "id": "eb1550e0",
   "metadata": {},
   "source": [
    "# Hyperparametic tuning"
   ]
  },
  {
   "cell_type": "raw",
   "id": "82951a7f",
   "metadata": {},
   "source": [
    "n_estimators= [i*10 for i in range(1,11)]\n",
    "    \n",
    "max_depth=[i*2 for i in range(1,5)]\n",
    "\n",
    "bootstrap=[True,False]\n",
    "\n",
    "max_features=['auto','sqrt','log2']\n",
    "\n",
    "min_samples_split=[2,4,6]\n",
    "    \n",
    "min_samples_leaf=[2,4,6]"
   ]
  },
  {
   "cell_type": "raw",
   "id": "70e1b9d9",
   "metadata": {},
   "source": [
    "param_grid = {'n_estimators': n_estimators,\n",
    "             'max_depth': max_depth,\n",
    "             'bootstrap': bootstrap,\n",
    "             'max_features': max_features,\n",
    "             'min_samples_split': min_samples_split,\n",
    "             'min_samples_leaf': min_samples_leaf}"
   ]
  },
  {
   "cell_type": "raw",
   "id": "42011a66",
   "metadata": {},
   "source": [
    "param_grid"
   ]
  },
  {
   "cell_type": "raw",
   "id": "8b317c60",
   "metadata": {},
   "source": [
    "from sklearn.model_selection import GridSearchCV\n",
    "searchcv = GridSearchCV(estimator = rf,\n",
    "    param_grid = param_grid,\n",
    "    scoring='neg_mean_absolute_error',\n",
    "    n_jobs=1,\n",
    "    cv=5,\n",
    "    verbose=5,\n",
    "    return_train_score=True)"
   ]
  },
  {
   "cell_type": "raw",
   "id": "18101f31",
   "metadata": {},
   "source": [
    "searchcv.fit(x_train,y_train)"
   ]
  },
  {
   "cell_type": "raw",
   "id": "60fee0d7",
   "metadata": {},
   "source": [
    "searchcv.best_estimator_"
   ]
  },
  {
   "cell_type": "code",
   "execution_count": 52,
   "id": "66644882",
   "metadata": {},
   "outputs": [],
   "source": [
    "regressor =  RandomForestRegressor(max_depth=8, min_samples_leaf=6, min_samples_split=6,\n",
    "                      n_estimators=30)"
   ]
  },
  {
   "cell_type": "code",
   "execution_count": 53,
   "id": "39bbfb9d",
   "metadata": {},
   "outputs": [
    {
     "data": {
      "text/plain": [
       "RandomForestRegressor(max_depth=8, min_samples_leaf=6, min_samples_split=6,\n",
       "                      n_estimators=30)"
      ]
     },
     "execution_count": 53,
     "metadata": {},
     "output_type": "execute_result"
    }
   ],
   "source": [
    "regressor.fit(x_train,y_train)"
   ]
  },
  {
   "cell_type": "code",
   "execution_count": 54,
   "id": "40cec8b3",
   "metadata": {},
   "outputs": [],
   "source": [
    "y_pred = regressor.predict(x_test)"
   ]
  },
  {
   "cell_type": "code",
   "execution_count": 55,
   "id": "b48d6d24",
   "metadata": {},
   "outputs": [
    {
     "data": {
      "text/plain": [
       "0.8865526414443976"
      ]
     },
     "execution_count": 55,
     "metadata": {},
     "output_type": "execute_result"
    }
   ],
   "source": [
    "metrics.r2_score(y_test,y_pred)"
   ]
  },
  {
   "cell_type": "code",
   "execution_count": 56,
   "id": "7848f5c8",
   "metadata": {},
   "outputs": [],
   "source": [
    "residuals=y_test-y_pred\n"
   ]
  },
  {
   "cell_type": "code",
   "execution_count": 57,
   "id": "9c99ba4f",
   "metadata": {},
   "outputs": [
    {
     "data": {
      "text/plain": [
       "<seaborn.axisgrid.FacetGrid at 0x1bdb813d130>"
      ]
     },
     "execution_count": 57,
     "metadata": {},
     "output_type": "execute_result"
    },
    {
     "data": {
      "image/png": "[encoded data removed]",
      "text/plain": [
       "<Figure size 500x500 with 1 Axes>"
      ]
     },
     "metadata": {},
     "output_type": "display_data"
    }
   ],
   "source": [
    "sns.displot(residuals,kind = 'kde')"
   ]
  },
  {
   "cell_type": "code",
   "execution_count": null,
   "id": "35a74dff",
   "metadata": {},
   "outputs": [],
   "source": []
  },
  {
   "cell_type": "code",
   "execution_count": null,
   "id": "47137918",
   "metadata": {},
   "outputs": [],
   "source": []
  },
  {
   "cell_type": "markdown",
   "id": "278a8646",
   "metadata": {},
   "source": [
    "# predict for new data"
   ]
  },
  {
   "cell_type": "code",
   "execution_count": 67,
   "id": "cbfe967c",
   "metadata": {},
   "outputs": [],
   "source": [
    "json_data = {\n",
    "    \"data\":{\n",
    "        \"age\":56,\n",
    "        \"sex\":\"male\",\n",
    "        \"bmi\":20,\n",
    "        \"children\":0,\n",
    "        \"smoker\":\"yes\",\n",
    "        \"region\":\"northeast\"\n",
    "\n",
    "    }\n",
    "}"
   ]
  },
  {
   "cell_type": "code",
   "execution_count": 68,
   "id": "fb9dc8e1",
   "metadata": {},
   "outputs": [],
   "source": [
    "data = json_data['data']"
   ]
  },
  {
   "cell_type": "code",
   "execution_count": 69,
   "id": "0ab1cc8e",
   "metadata": {},
   "outputs": [
    {
     "data": {
      "text/plain": [
       "{'age': 56,\n",
       " 'sex': 'male',\n",
       " 'bmi': 20,\n",
       " 'children': 0,\n",
       " 'smoker': 'yes',\n",
       " 'region': 'northeast'}"
      ]
     },
     "execution_count": 69,
     "metadata": {},
     "output_type": "execute_result"
    }
   ],
   "source": [
    "data"
   ]
  },
  {
   "cell_type": "code",
   "execution_count": 70,
   "id": "ff4cbbd4",
   "metadata": {},
   "outputs": [],
   "source": [
    "new_data = pd.DataFrame([data])"
   ]
  },
  {
   "cell_type": "code",
   "execution_count": 71,
   "id": "b20357ac",
   "metadata": {},
   "outputs": [
    {
     "data": {
      "text/html": [
       "<div>\n",
       "<style scoped>\n",
       "    .dataframe tbody tr th:only-of-type {\n",
       "        vertical-align: middle;\n",
       "    }\n",
       "\n",
       "    .dataframe tbody tr th {\n",
       "        vertical-align: top;\n",
       "    }\n",
       "\n",
       "    .dataframe thead th {\n",
       "        text-align: right;\n",
       "    }\n",
       "</style>\n",
       "<table border=\"1\" class=\"dataframe\">\n",
       "  <thead>\n",
       "    <tr style=\"text-align: right;\">\n",
       "      <th></th>\n",
       "      <th>age</th>\n",
       "      <th>sex</th>\n",
       "      <th>bmi</th>\n",
       "      <th>children</th>\n",
       "      <th>smoker</th>\n",
       "      <th>region</th>\n",
       "    </tr>\n",
       "  </thead>\n",
       "  <tbody>\n",
       "    <tr>\n",
       "      <th>0</th>\n",
       "      <td>56</td>\n",
       "      <td>male</td>\n",
       "      <td>20</td>\n",
       "      <td>0</td>\n",
       "      <td>yes</td>\n",
       "      <td>northeast</td>\n",
       "    </tr>\n",
       "  </tbody>\n",
       "</table>\n",
       "</div>"
      ],
      "text/plain": [
       "   age   sex  bmi  children smoker     region\n",
       "0   56  male   20         0    yes  northeast"
      ]
     },
     "execution_count": 71,
     "metadata": {},
     "output_type": "execute_result"
    }
   ],
   "source": [
    "new_data"
   ]
  },
  {
   "cell_type": "code",
   "execution_count": 74,
   "id": "7df18aab",
   "metadata": {},
   "outputs": [],
   "source": [
    "new_data = transform(new_data.loc[0])"
   ]
  },
  {
   "cell_type": "code",
   "execution_count": 75,
   "id": "c36acd6d",
   "metadata": {},
   "outputs": [],
   "source": [
    "pred_value = regressor.predict(scale.transform(pd.DataFrame(new_data).transpose()))"
   ]
  },
  {
   "cell_type": "code",
   "execution_count": 76,
   "id": "b4b36c6e",
   "metadata": {},
   "outputs": [],
   "source": [
    "v= pd.DataFrame([pred_value])"
   ]
  },
  {
   "cell_type": "code",
   "execution_count": 77,
   "id": "e94063eb",
   "metadata": {},
   "outputs": [
    {
     "data": {
      "text/plain": [
       "26151.15"
      ]
     },
     "execution_count": 77,
     "metadata": {},
     "output_type": "execute_result"
    }
   ],
   "source": [
    "round(v.loc[0,0],ndigits=2)"
   ]
  },
  {
   "cell_type": "code",
   "execution_count": 78,
   "id": "4dee3e7c",
   "metadata": {},
   "outputs": [
    {
     "data": {
      "text/plain": [
       "26151.15"
      ]
     },
     "execution_count": 78,
     "metadata": {},
     "output_type": "execute_result"
    }
   ],
   "source": [
    "round(np.float64(pred_value),ndigits=2)"
   ]
  },
  {
   "cell_type": "code",
   "execution_count": 79,
   "id": "3440fce0",
   "metadata": {},
   "outputs": [
    {
     "data": {
      "text/plain": [
       "26151.15382482724"
      ]
     },
     "execution_count": 79,
     "metadata": {},
     "output_type": "execute_result"
    }
   ],
   "source": [
    "np.float64(pred_value)"
   ]
  },
  {
   "cell_type": "code",
   "execution_count": 82,
   "id": "447d86af",
   "metadata": {},
   "outputs": [
    {
     "data": {
      "text/plain": [
       "[26151.15382483]"
      ]
     },
     "execution_count": 82,
     "metadata": {},
     "output_type": "execute_result"
    }
   ],
   "source": [
    "json.loads(str(pred_value))\n"
   ]
  },
  {
   "cell_type": "code",
   "execution_count": 83,
   "id": "26355d73",
   "metadata": {},
   "outputs": [
    {
     "data": {
      "text/plain": [
       "'\"[26151.15382483]\"'"
      ]
     },
     "execution_count": 83,
     "metadata": {},
     "output_type": "execute_result"
    }
   ],
   "source": [
    "json.dumps(str(pred_value))"
   ]
  },
  {
   "cell_type": "code",
   "execution_count": 84,
   "id": "ec80797e",
   "metadata": {},
   "outputs": [
    {
     "ename": "NameError",
     "evalue": "name 'jsonify' is not defined",
     "output_type": "error",
     "traceback": [
      "\u001b[1;31m---------------------------------------------------------------------------\u001b[0m",
      "\u001b[1;31mNameError\u001b[0m                                 Traceback (most recent call last)",
      "\u001b[1;32m~\\AppData\\Local\\Temp\\ipykernel_10360\\1012246342.py\u001b[0m in \u001b[0;36m<module>\u001b[1;34m\u001b[0m\n\u001b[1;32m----> 1\u001b[1;33m \u001b[0md\u001b[0m \u001b[1;33m=\u001b[0m \u001b[0mjsonify\u001b[0m\u001b[1;33m(\u001b[0m\u001b[1;33m)\u001b[0m\u001b[1;33m\u001b[0m\u001b[1;33m\u001b[0m\u001b[0m\n\u001b[0m",
      "\u001b[1;31mNameError\u001b[0m: name 'jsonify' is not defined"
     ]
    }
   ],
   "source": [
    "d = jsonify()"
   ]
  },
  {
   "cell_type": "code",
   "execution_count": 86,
   "id": "356ac67c",
   "metadata": {},
   "outputs": [
    {
     "ename": "KeyError",
     "evalue": "1",
     "output_type": "error",
     "traceback": [
      "\u001b[1;31m---------------------------------------------------------------------------\u001b[0m",
      "\u001b[1;31mKeyError\u001b[0m                                  Traceback (most recent call last)",
      "\u001b[1;32m~\\AppData\\Local\\Temp\\ipykernel_10360\\1984652319.py\u001b[0m in \u001b[0;36m<module>\u001b[1;34m\u001b[0m\n\u001b[1;32m----> 1\u001b[1;33m \u001b[0mtransform\u001b[0m\u001b[1;33m(\u001b[0m\u001b[0mnew_data\u001b[0m\u001b[1;33m)\u001b[0m\u001b[1;33m\u001b[0m\u001b[1;33m\u001b[0m\u001b[0m\n\u001b[0m",
      "\u001b[1;32m~\\AppData\\Local\\Temp\\ipykernel_10360\\3374083394.py\u001b[0m in \u001b[0;36mtransform\u001b[1;34m(new_data)\u001b[0m\n\u001b[0;32m      2\u001b[0m \u001b[1;33m\u001b[0m\u001b[0m\n\u001b[0;32m      3\u001b[0m     \u001b[0msex\u001b[0m\u001b[1;33m=\u001b[0m\u001b[1;33m{\u001b[0m\u001b[1;34m'male'\u001b[0m\u001b[1;33m:\u001b[0m\u001b[1;36m1\u001b[0m\u001b[1;33m,\u001b[0m\u001b[1;34m'female'\u001b[0m\u001b[1;33m:\u001b[0m\u001b[1;36m0\u001b[0m\u001b[1;33m}\u001b[0m\u001b[1;33m\u001b[0m\u001b[1;33m\u001b[0m\u001b[0m\n\u001b[1;32m----> 4\u001b[1;33m     \u001b[0mnew_data\u001b[0m\u001b[1;33m.\u001b[0m\u001b[0msex\u001b[0m\u001b[1;33m=\u001b[0m \u001b[0msex\u001b[0m\u001b[1;33m[\u001b[0m\u001b[0mnew_data\u001b[0m\u001b[1;33m.\u001b[0m\u001b[0msex\u001b[0m\u001b[1;33m]\u001b[0m\u001b[1;33m\u001b[0m\u001b[1;33m\u001b[0m\u001b[0m\n\u001b[0m\u001b[0;32m      5\u001b[0m     \u001b[0msmoker\u001b[0m\u001b[1;33m=\u001b[0m\u001b[1;33m{\u001b[0m\u001b[1;34m'yes'\u001b[0m\u001b[1;33m:\u001b[0m\u001b[1;36m1\u001b[0m\u001b[1;33m,\u001b[0m\u001b[1;34m'no'\u001b[0m\u001b[1;33m:\u001b[0m\u001b[1;36m0\u001b[0m\u001b[1;33m}\u001b[0m\u001b[1;33m\u001b[0m\u001b[1;33m\u001b[0m\u001b[0m\n\u001b[0;32m      6\u001b[0m     \u001b[0mnew_data\u001b[0m\u001b[1;33m.\u001b[0m\u001b[0msmoker\u001b[0m\u001b[1;33m=\u001b[0m \u001b[0msmoker\u001b[0m\u001b[1;33m[\u001b[0m\u001b[0mnew_data\u001b[0m\u001b[1;33m.\u001b[0m\u001b[0msmoker\u001b[0m\u001b[1;33m]\u001b[0m\u001b[1;33m\u001b[0m\u001b[1;33m\u001b[0m\u001b[0m\n",
      "\u001b[1;31mKeyError\u001b[0m: 1"
     ]
    }
   ],
   "source": [
    "transform(new_data)"
   ]
  },
  {
   "cell_type": "code",
   "execution_count": null,
   "id": "be99ea50",
   "metadata": {},
   "outputs": [],
   "source": [
    "age=56\n",
    "sex='male'\n",
    "bmi=20\n",
    "children=0\n",
    "smoker='yes'\n",
    "region='northeast'"
   ]
  },
  {
   "cell_type": "code",
   "execution_count": null,
   "id": "48d05f8f",
   "metadata": {},
   "outputs": [],
   "source": [
    "data = {\"age\":age,\n",
    "        \"sex\":sex,\n",
    "        \"bmi\":bmi,\n",
    "        \"children\":children,\n",
    "        \"smoker\":smoker,\n",
    "        \"region\":region}"
   ]
  },
  {
   "cell_type": "code",
   "execution_count": null,
   "id": "b8f72cbe",
   "metadata": {},
   "outputs": [],
   "source": [
    "data"
   ]
  },
  {
   "cell_type": "code",
   "execution_count": null,
   "id": "a8bcb89a",
   "metadata": {},
   "outputs": [],
   "source": [
    "data = pd.DataFrame([data])"
   ]
  },
  {
   "cell_type": "code",
   "execution_count": null,
   "id": "d5ecd0a2",
   "metadata": {},
   "outputs": [],
   "source": [
    "data"
   ]
  },
  {
   "cell_type": "code",
   "execution_count": null,
   "id": "149d4f0c",
   "metadata": {},
   "outputs": [],
   "source": []
  },
  {
   "cell_type": "code",
   "execution_count": null,
   "id": "10d9f8ea",
   "metadata": {},
   "outputs": [],
   "source": []
  },
  {
   "cell_type": "code",
   "execution_count": 73,
   "id": "23e2c01f",
   "metadata": {},
   "outputs": [],
   "source": [
    "def transform(new_data):\n",
    "    \n",
    "    sex={'male':1,'female':0}\n",
    "    new_data.sex= sex[new_data.sex]\n",
    "    smoker={'yes':1,'no':0}\n",
    "    new_data.smoker= smoker[new_data.smoker]\n",
    "    region={'northeast':0,'northwest':1,'southeast':2,'southwest':3}\n",
    "    new_data.region= region[new_data.region]\n",
    "    return new_data\n"
   ]
  },
  {
   "cell_type": "code",
   "execution_count": null,
   "id": "31e24ffd",
   "metadata": {},
   "outputs": [],
   "source": [
    "df.iloc[100,:-1]"
   ]
  },
  {
   "cell_type": "code",
   "execution_count": null,
   "id": "cd343e8c",
   "metadata": {},
   "outputs": [],
   "source": [
    "#real ammount\n",
    "df.iloc[100,-1]"
   ]
  },
  {
   "cell_type": "code",
   "execution_count": null,
   "id": "b8f4fcc6",
   "metadata": {},
   "outputs": [],
   "source": [
    "#predicted amount\n",
    "regressor.predict(scale.transform(pd.DataFrame(transform(new_data)).transpose()))"
   ]
  },
  {
   "cell_type": "markdown",
   "id": "b4282a22",
   "metadata": {},
   "source": [
    "# Pickling for deployment"
   ]
  },
  {
   "cell_type": "code",
   "execution_count": 87,
   "id": "706a72cf",
   "metadata": {},
   "outputs": [],
   "source": [
    "import pickle\n",
    "pickle.dump(scale,open('scale.pkl','wb'))"
   ]
  },
  {
   "cell_type": "code",
   "execution_count": 88,
   "id": "1581e6ea",
   "metadata": {},
   "outputs": [
    {
     "ename": "TypeError",
     "evalue": "transform() missing 1 required positional argument: 'new_data'",
     "output_type": "error",
     "traceback": [
      "\u001b[1;31m---------------------------------------------------------------------------\u001b[0m",
      "\u001b[1;31mTypeError\u001b[0m                                 Traceback (most recent call last)",
      "\u001b[1;32m~\\AppData\\Local\\Temp\\ipykernel_10360\\128239377.py\u001b[0m in \u001b[0;36m<module>\u001b[1;34m\u001b[0m\n\u001b[1;32m----> 1\u001b[1;33m \u001b[0mtransformdata\u001b[0m \u001b[1;33m=\u001b[0m \u001b[0mtransform\u001b[0m\u001b[1;33m(\u001b[0m\u001b[1;33m)\u001b[0m\u001b[1;33m\u001b[0m\u001b[1;33m\u001b[0m\u001b[0m\n\u001b[0m",
      "\u001b[1;31mTypeError\u001b[0m: transform() missing 1 required positional argument: 'new_data'"
     ]
    }
   ],
   "source": [
    "transformdata = transform()"
   ]
  },
  {
   "cell_type": "code",
   "execution_count": null,
   "id": "4b1a70c1",
   "metadata": {},
   "outputs": [],
   "source": [
    "transform"
   ]
  },
  {
   "cell_type": "code",
   "execution_count": null,
   "id": "b6f4a70f",
   "metadata": {},
   "outputs": [],
   "source": [
    "pickle.dump(transformdata,open('transform.pkl','wb'))"
   ]
  },
  {
   "cell_type": "code",
   "execution_count": null,
   "id": "0d1cffde",
   "metadata": {},
   "outputs": [],
   "source": [
    "pickle.dump(regressor,open('regressor.pkl','wb'))"
   ]
  },
  {
   "cell_type": "code",
   "execution_count": null,
   "id": "654c8e98",
   "metadata": {},
   "outputs": [],
   "source": []
  },
  {
   "cell_type": "code",
   "execution_count": null,
   "id": "86b74dbc",
   "metadata": {},
   "outputs": [],
   "source": [
    "pickle_transform = pickle.load(open('transform.pkl','rb'))"
   ]
  },
  {
   "cell_type": "code",
   "execution_count": null,
   "id": "92ca907c",
   "metadata": {},
   "outputs": [],
   "source": [
    "pickle_transform(new_data)"
   ]
  },
  {
   "cell_type": "code",
   "execution_count": null,
   "id": "6760e95b",
   "metadata": {},
   "outputs": [],
   "source": [
    "pickle_regress = pickle.load(open('regressor.pkl','rb'))"
   ]
  },
  {
   "cell_type": "code",
   "execution_count": null,
   "id": "dc037228",
   "metadata": {},
   "outputs": [],
   "source": [
    "pickle_regress.predict(scale.transform(pd.DataFrame(transform(new_data)).transpose()))"
   ]
  },
  {
   "cell_type": "code",
   "execution_count": null,
   "id": "706b23df",
   "metadata": {},
   "outputs": [],
   "source": []
  },
  {
   "cell_type": "code",
   "execution_count": null,
   "id": "60813098",
   "metadata": {},
   "outputs": [],
   "source": []
  },
  {
   "cell_type": "code",
   "execution_count": null,
   "id": "69038baa",
   "metadata": {},
   "outputs": [],
   "source": [
    "def printdata(data):\n",
    "    new_data = transform(data)\n",
    "    return new_data"
   ]
  },
  {
   "cell_type": "code",
   "execution_count": null,
   "id": "b8374f57",
   "metadata": {},
   "outputs": [],
   "source": [
    "printdata(new_data)"
   ]
  },
  {
   "cell_type": "code",
   "execution_count": null,
   "id": "4c858020",
   "metadata": {},
   "outputs": [],
   "source": []
  }
 ],
 "metadata": {
  "kernelspec": {
   "display_name": "Python 3 (ipykernel)",
   "language": "python",
   "name": "python3"
  },
  "language_info": {
   "codemirror_mode": {
    "name": "ipython",
    "version": 3
   },
   "file_extension": ".py",
   "mimetype": "text/x-python",
   "name": "python",
   "nbconvert_exporter": "python",
   "pygments_lexer": "ipython3",
   "version": "3.9.13"
  },
  "vscode": {
   "interpreter": {
    "hash": "985d15e8e2204745567530db891694efcbafa9d11cca0b3829fe6e4a6a7db1bc"
   }
  }
 },
 "nbformat": 4,
 "nbformat_minor": 5
}
